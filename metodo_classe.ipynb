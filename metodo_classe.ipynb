{
  "nbformat": 4,
  "nbformat_minor": 0,
  "metadata": {
    "colab": {
      "provenance": [],
      "authorship_tag": "ABX9TyPGPLlL2el9XLsLYVFsGL2w"
    },
    "kernelspec": {
      "name": "python3",
      "display_name": "Python 3"
    },
    "language_info": {
      "name": "python"
    }
  },
  "cells": [
    {
      "cell_type": "code",
      "source": [
        "class CalculoArea:\n",
        "  def __init__(self, base, altura):\n",
        "    self.base = base\n",
        "    self.altura = altura\n",
        "\n",
        "  def area(self):\n",
        "    return self.base * self.altura\n",
        "\n",
        "\n",
        "retangulo = CalculoArea(5, 10)\n",
        "retangulo.area()\n",
        "\n",
        "\n"
      ],
      "metadata": {
        "colab": {
          "base_uri": "https://localhost:8080/"
        },
        "id": "nZXsqLzNdx-K",
        "outputId": "611e9e4c-662b-4daa-f496-2887f7f3f69d"
      },
      "execution_count": 2,
      "outputs": [
        {
          "output_type": "execute_result",
          "data": {
            "text/plain": [
              "50"
            ]
          },
          "metadata": {},
          "execution_count": 2
        }
      ]
    },
    {
      "cell_type": "code",
      "source": [
        "class Musica:\n",
        "  def __init__(self, musica):\n",
        "    self.musica = musica\n",
        "\n",
        "  def ouvindo(self):\n",
        "    return f'No momento eu estou ouvindo {self.musica}'\n",
        "\n",
        "\n",
        "listen = Musica('Un-Reborn Again')\n",
        "listen.ouvindo()\n"
      ],
      "metadata": {
        "colab": {
          "base_uri": "https://localhost:8080/",
          "height": 35
        },
        "id": "uz6OqkoehUEs",
        "outputId": "edee7525-c12f-4654-cf7b-2ecbd564319e"
      },
      "execution_count": 4,
      "outputs": [
        {
          "output_type": "execute_result",
          "data": {
            "text/plain": [
              "'No momento eu estou ouvindo Un-Reborn Again'"
            ],
            "application/vnd.google.colaboratory.intrinsic+json": {
              "type": "string"
            }
          },
          "metadata": {},
          "execution_count": 4
        }
      ]
    },
    {
      "cell_type": "code",
      "source": [
        "class Circulo:\n",
        "  pi = 3.14\n",
        "  def __init__(self, raio = 5):\n",
        "    self.raio = raio\n",
        "\n",
        "  def area(self):\n",
        "    return (self.raio * self.raio) * Circulo.pi\n",
        "\n",
        "  def getRaio(self):\n",
        "    return self.raio\n",
        "\n",
        "  def setRaio(self, novo_raio):\n",
        "    self.raio = novo_raio\n",
        "    return 'Registrado'\n",
        "\n",
        "\n",
        "# circ = Circulo()\n",
        "# circ.area()\n",
        "# circ.getRaio()\n",
        "# circ.setRaio(9)\n",
        "# circ.area()\n",
        "circ1 = Circulo(1)\n",
        "circ1.getRaio()\n",
        "circ1.area()\n",
        "\n",
        "\n",
        "\n"
      ],
      "metadata": {
        "colab": {
          "base_uri": "https://localhost:8080/"
        },
        "id": "cRl13LQfkDbC",
        "outputId": "4b43a7de-a27b-4e07-d094-a98832905f11"
      },
      "execution_count": 18,
      "outputs": [
        {
          "output_type": "execute_result",
          "data": {
            "text/plain": [
              "3.14"
            ]
          },
          "metadata": {},
          "execution_count": 18
        }
      ]
    }
  ]
}